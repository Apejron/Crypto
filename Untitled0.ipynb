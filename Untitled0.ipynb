{
  "nbformat": 4,
  "nbformat_minor": 0,
  "metadata": {
    "colab": {
      "name": "Untitled0.ipynb",
      "provenance": [],
      "collapsed_sections": [],
      "authorship_tag": "ABX9TyPIwvhdJDlecRlQz/GHGKLm",
      "include_colab_link": true
    },
    "kernelspec": {
      "name": "python3",
      "display_name": "Python 3"
    }
  },
  "cells": [
    {
      "cell_type": "markdown",
      "metadata": {
        "id": "view-in-github",
        "colab_type": "text"
      },
      "source": [
        "<a href=\"https://colab.research.google.com/github/Apejron/Crypto/blob/master/Untitled0.ipynb\" target=\"_parent\"><img src=\"https://colab.research.google.com/assets/colab-badge.svg\" alt=\"Open In Colab\"/></a>"
      ]
    },
    {
      "cell_type": "code",
      "metadata": {
        "colab": {
          "base_uri": "https://localhost:8080/"
        },
        "id": "fU8Vs2oM9Go3",
        "outputId": "a9fcec41-51d6-4057-9d75-7bdff8c93f2e"
      },
      "source": [
        "zmienna_1 = 3\r\n",
        "zmienna_2 = 2\r\n",
        "print('Wynik dodawania dwóch zmiennych zmienna_1 i zmienna_2 równa się {}'.format(zmienna_1 + zmienna_2))\r\n"
      ],
      "execution_count": 6,
      "outputs": [
        {
          "output_type": "stream",
          "text": [
            "Wynik dodawania dwóch zmiennych zmienna_1 i zmienna_2 równa się: 5\n"
          ],
          "name": "stdout"
        }
      ]
    },
    {
      "cell_type": "code",
      "metadata": {
        "id": "_2AN2UkvE9SV"
      },
      "source": [
        "dfds"
      ],
      "execution_count": null,
      "outputs": []
    }
  ]
}